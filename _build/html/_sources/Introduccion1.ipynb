{
 "cells": [
  {
   "cell_type": "markdown",
   "metadata": {},
   "source": [
    "# Funcionamiento de los Computadores Cuánticos\n",
    "\n",
    "Un computador cuántico utiliza los principios de la mecánica cuántica para realizar cálculos de una manera radicalmente diferente a los computadores clásicos. Su principal ventaja radica en el uso de **qubits** en lugar de bits tradicionales, lo que les permite aprovechar propiedades como la **superposición** y el **entrelazamiento cuántico**.\n",
    "\n",
    "## Principios Claves\n",
    "\n",
    "### 1. Superposición\n",
    "Un **qubit** puede estar en múltiples estados simultáneamente, lo que se conoce como **superposición**. A diferencia de los bits clásicos, que sólo pueden ser 0 o 1, un qubit puede ser 0, 1 o cualquier combinación de ambos al mismo tiempo. Esto permite que un computador cuántico realice múltiples cálculos en paralelo, lo que incrementa significativamente la capacidad de procesamiento para ciertos problemas.\n",
    "\n",
    "<div style=\"text-align: center;\">\n",
    "<img src=\"https://i0.wp.com/eos.org/wp-content/uploads/2022/10/binary-bits-qubits-comparison.png?w=800&ssl=1\" alt=\"Texto alternativo\" width=\"450\" height=\"300\">\n",
    "</div>\n",
    "\n",
    "\n",
    "### 2. Entrelazamiento Cuántico\n",
    "El **entrelazamiento cuántico** ocurre cuando dos qubits están tan correlacionados que el estado de uno depende instantáneamente del estado del otro, sin importar la distancia que los separe. Este fenómeno permite la transmisión eficiente de información entre qubits y es fundamental para realizar cálculos más complejos de manera rápida.\n",
    "\n",
    "<div style=\"text-align: center;\">\n",
    "<img src=\"https://th.bing.com/th/id/R.a16da6098be64ac66cb3b432c1076475?rik=LmyQDSDbE64WPw&riu=http%3a%2f%2fwww.icesi.edu.co%2fblogs_estudiantes%2fgeek%2ffiles%2f2020%2f12%2fentrelazamiento-cuantico.jpg&ehk=SzeQUZb5xLc6Xh7grx2e8sqzGO8IsT1roQZw%2fuRiCxI%3d&risl=&pid=ImgRaw&r=0\" alt=\"Texto alternativo\" width=\"450\" height=\"300\">\n",
    "</div>\n",
    "\n",
    "\n",
    "### 3. Interferencia Cuántica\n",
    "En el mundo cuántico, las **ondas de probabilidad** asociadas a los diferentes estados de superposición interactúan entre sí mediante **interferencia**. Las operaciones cuánticas pueden usar esta interferencia para amplificar los resultados correctos y cancelar aquellos que no son útiles, logrando así un resultado final más preciso.\n",
    "\n",
    "## Componentes de un Computador Cuántico\n",
    "\n",
    "\n",
    "1. **Qubits**: Los qubits son las unidades básicas de información en un computador cuántico. Pueden implementarse con diferentes tecnologías, como iones atrapados, superconductores o fotones.\n",
    "\n",
    "2. **Puertas Cuánticas**: Manipulan el estado de uno o más qubits, similar a cómo las puertas lógicas clásicas (AND, OR, NOT) funcionan en los computadores clásicos. Las puertas cuánticas permiten alterar la superposición y el entrelazamiento para realizar cálculos específicos.\n",
    "\n",
    "3. **Medición**: Al finalizar un cálculo, los qubits son medidos. Este proceso \"colapsa\" su estado cuántico en un valor clásico (0 o 1), devolviendo una salida que puede ser interpretada.\n",
    "\n",
    "4. **Refrigeración**: Los computadores cuánticos requieren operar a temperaturas extremadamente bajas, cercanas al cero absoluto, para evitar la **decoherencia** (cuando los qubits pierden su estado cuántico por interferencias del entorno).\n",
    "\n",
    "<div style=\"text-align: center;\">\n",
    "<img src=\"https://img.datacentermarket.es/wp-content/uploads/2023/08/24095659/ordenador-cuantico-apertura.jpeg\" alt=\"Texto alternativo\" width=\"450\" height=\"300\">\n",
    "</div>\n",
    "\n",
    "\n",
    "## Etapas de Funcionamiento\n",
    "\n",
    "1. **Inicialización**: El sistema cuántico se prepara en un estado inicial conocido, típicamente colocando todos los qubits en el estado 0.\n",
    "\n",
    "2. **Aplicación de Puertas Cuánticas**: Se ejecutan operaciones cuánticas sobre los qubits utilizando puertas cuánticas. Estas operaciones explotan la superposición y el entrelazamiento para procesar información de manera más eficiente que en sistemas clásicos.\n",
    "\n",
    "3. **Interferencia y Cálculo**: Durante el proceso de cálculo, las ondas de probabilidad que describen los posibles estados de los qubits se manipulan para amplificar los resultados correctos mediante interferencia cuántica.\n",
    "\n",
    "4. **Medición**: Al final del cálculo, se miden los qubits, lo que produce una salida clásica. El resultado final del cálculo es probabilístico, ya que depende de las probabilidades asociadas a los estados cuánticos previos a la medición.\n",
    "\n",
    "5. **Corrección de Errores**: Dado que los qubits son muy sensibles a interferencias externas (decoherencia), es esencial aplicar técnicas de **corrección de errores cuánticos** para asegurar la precisión del cálculo.\n"
   ]
  }
 ],
 "metadata": {
  "language_info": {
   "name": "python"
  }
 },
 "nbformat": 4,
 "nbformat_minor": 2
}
